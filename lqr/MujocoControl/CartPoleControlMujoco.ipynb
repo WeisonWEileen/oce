{
 "cells": [
  {
   "cell_type": "markdown",
   "metadata": {},
   "source": [
    "# Example of cart pole simulation in Mujoco\n",
    "*****************************************************************\n",
    " Copyright © 2025 [Wei Zhang/CLEAR Lab]. All Rights Reserved.\n",
    "\n",
    "********************************************************************\n",
    "This tutorial introduces how to set up closed-loop control system for a simple cart pole systems in Mujoco. \n",
    "\n",
    "First, let's create the cart pole model"
   ]
  },
  {
   "cell_type": "code",
   "execution_count": 1,
   "metadata": {},
   "outputs": [],
   "source": [
    "import mujoco\n",
    "import mediapy as media\n",
    "import numpy as np\n",
    "\n",
    "import mujoco.viewer as viewer\n",
    "modelxml = \"\"\"\n",
    "<mujoco model=\"CartPole\">\n",
    "  <compiler eulerseq=\"XYZ\"/>\n",
    "  <default>\n",
    "    <default class=\"unused\"/>\n",
    "  </default>\n",
    "  <asset>\n",
    "    <texture name=\"grid\" type=\"2d\" builtin=\"checker\" rgb1=\"0.1 0.2 0.3\" rgb2=\"0.2 0.3 0.4\" width=\"512\" height=\"512\"/>\n",
    "    <material name=\"grid\" class=\"unused\" texture=\"grid\" texrepeat=\"1 1\" texuniform=\"true\" reflectance=\"0.2\"/>\n",
    "  </asset>\n",
    "  <worldbody>\n",
    "    <geom name=\"floor\" class=\"unused\" type=\"plane\" condim=\"3\" size=\"0 0 0.05\" material=\"grid\" pos=\"0 0 -1\"/>\n",
    "    <body name=\"Cart\" pos=\"0 0 0\" euler=\"0 -0 0\">\n",
    "    <!-- change inertia, different from sdf -->\n",
    "    <!-- For this model case, with the cart not having any rotational\n",
    "             degrees of freedom, the values of the inertia matrix do not\n",
    "             participate in the model. Therefore we just set them to zero\n",
    "             (or near to zero since sdformat does not allow exact zeroes\n",
    "             for inertia values). -->\n",
    "      <inertial pos=\"0 0 0\" mass=\"5\" diaginertia=\"0.00000000001 0.00000000001 0.00000000001\"/>\n",
    "      <geom name=\"cart_visual\" class=\"unused\" type=\"box\" contype=\"0\" conaffinity=\"0\" group=\"0\" size=\"0.12 0.06 0.06\" pos=\"0 0 0\" euler=\"0 -0 0\"/>\n",
    "      <joint name=\"CartSlider\" class=\"unused\" type=\"slide\" pos=\"0 0 0\" axis=\"1 0 0\"/>\n",
    "      <body name=\"Pole\" pos=\"0 0 -0.5\" euler=\"0 -0 0\">\n",
    "        <inertial pos=\"0 0 0\" mass=\"1\" diaginertia=\"0.00000000001 0.00000000001 0.00000000001\"/>\n",
    "        <geom name=\"pole_point_mass\" class=\"unused\" type=\"sphere\" contype=\"0\" conaffinity=\"0\" group=\"0\" size=\"0.05\" pos=\"0 0 0\" euler=\"0 -0 0\"/>\n",
    "        <geom name=\"pole_rod\" class=\"unused\" type=\"cylinder\" contype=\"0\" conaffinity=\"0\" group=\"0\" size=\"0.025 0.25\" pos=\"0 0 0.25\" euler=\"0 -0 0\"/>\n",
    "        <joint name=\"PolePin\" class=\"unused\" type=\"hinge\" pos=\"0 0 0.5\" axis=\"0 -1 0\"/>\n",
    "      </body>\n",
    "    </body>\n",
    "  </worldbody>\n",
    "  <sensor>\n",
    "        <!-- joint position sensing -->\n",
    "        <jointpos joint=\"CartSlider\" name=\"cart_p\"/>\n",
    "        <jointpos joint=\"PolePin\" name=\"pole_theta\"/>\n",
    "        <!-- joint velocity sensing -->\n",
    "        <jointvel joint=\"CartSlider\" name=\"cart_v\"/>\n",
    "        <jointvel joint=\"PolePin\" name=\"pole_w\"/>\n",
    "  </sensor>\n",
    "  <actuator>\n",
    "    <motor joint=\"CartSlider\"/>\n",
    "  </actuator>\n",
    "  \n",
    "  <keyframe>\n",
    "    <key name=\"off1\" qpos=\"0 3.15\"/>\n",
    "  </keyframe>\n",
    "</mujoco>\n",
    "\"\"\"\n",
    "model = mujoco.MjModel.from_xml_string(modelxml)\n",
    "data = mujoco.MjData(model)\n"
   ]
  },
  {
   "cell_type": "markdown",
   "metadata": {},
   "source": [
    "## define controller"
   ]
  },
  {
   "cell_type": "code",
   "execution_count": 2,
   "metadata": {},
   "outputs": [],
   "source": [
    "# define customized controller which returns the feedback control action\n",
    "# you can implement your controller here \n",
    "def myControl(model, data):\n",
    "    x = np.hstack((data.qpos,data.qvel))\n",
    "    xref = np.array([0, np.pi, 0, 0])\n",
    "    x_error = x-xref\n",
    "    K = np.array([-0.5, 0.5, 0, 0])\n",
    "    u = K@x_error\n",
    "    data.ctrl = u\n",
    "    return u\n",
    "    "
   ]
  },
  {
   "cell_type": "markdown",
   "metadata": {},
   "source": [
    "## Simulate the closed-loop system"
   ]
  },
  {
   "cell_type": "code",
   "execution_count": null,
   "metadata": {},
   "outputs": [
    {
     "ename": "KeyboardInterrupt",
     "evalue": "",
     "output_type": "error",
     "traceback": [
      "\u001b[31m---------------------------------------------------------------------------\u001b[39m",
      "\u001b[31mKeyboardInterrupt\u001b[39m                         Traceback (most recent call last)",
      "\u001b[36mCell\u001b[39m\u001b[36m \u001b[39m\u001b[32mIn[4]\u001b[39m\u001b[32m, line 8\u001b[39m\n\u001b[32m      4\u001b[39m mujoco.mj_resetDataKeyframe(model, data, \u001b[32m0\u001b[39m)  \u001b[38;5;66;03m# Reset the state to keyframe 0\u001b[39;00m\n\u001b[32m      6\u001b[39m \u001b[38;5;66;03m# \u001b[39;00m\n\u001b[32m      7\u001b[39m \u001b[38;5;66;03m# with viewer.launch_passive(model, data) as viewer:  \u001b[39;00m\n\u001b[32m----> \u001b[39m\u001b[32m8\u001b[39m \u001b[38;5;28;01mwith\u001b[39;00m \u001b[43mviewer\u001b[49m\u001b[43m.\u001b[49m\u001b[43mlaunch\u001b[49m\u001b[43m(\u001b[49m\u001b[43mmodel\u001b[49m\u001b[43m,\u001b[49m\u001b[43m \u001b[49m\u001b[43mdata\u001b[49m\u001b[43m)\u001b[49m \u001b[38;5;28;01mas\u001b[39;00m viewer:  \n\u001b[32m      9\u001b[39m   \u001b[38;5;66;03m# launch_passive means all the simulation should be done by the user \u001b[39;00m\n\u001b[32m     11\u001b[39m   start = time.time()\n\u001b[32m     12\u001b[39m   \u001b[38;5;28;01mwhile\u001b[39;00m viewer.is_running() \u001b[38;5;129;01mand\u001b[39;00m time.time() - start < \u001b[32m10\u001b[39m:\n",
      "\u001b[36mFile \u001b[39m\u001b[32m~/anaconda3/envs/mujoco/lib/python3.13/site-packages/mujoco/viewer.py:460\u001b[39m, in \u001b[36mlaunch\u001b[39m\u001b[34m(model, data, loader, show_left_ui, show_right_ui)\u001b[39m\n\u001b[32m    451\u001b[39m \u001b[38;5;28;01mdef\u001b[39;00m\u001b[38;5;250m \u001b[39m\u001b[34mlaunch\u001b[39m(\n\u001b[32m    452\u001b[39m     model: Optional[mujoco.MjModel] = \u001b[38;5;28;01mNone\u001b[39;00m,\n\u001b[32m    453\u001b[39m     data: Optional[mujoco.MjData] = \u001b[38;5;28;01mNone\u001b[39;00m,\n\u001b[32m   (...)\u001b[39m\u001b[32m    457\u001b[39m     show_right_ui: \u001b[38;5;28mbool\u001b[39m = \u001b[38;5;28;01mTrue\u001b[39;00m,\n\u001b[32m    458\u001b[39m ) -> \u001b[38;5;28;01mNone\u001b[39;00m:\n\u001b[32m    459\u001b[39m \u001b[38;5;250m  \u001b[39m\u001b[33;03m\"\"\"Launches the Simulate GUI.\"\"\"\u001b[39;00m\n\u001b[32m--> \u001b[39m\u001b[32m460\u001b[39m   \u001b[43m_launch_internal\u001b[49m\u001b[43m(\u001b[49m\n\u001b[32m    461\u001b[39m \u001b[43m      \u001b[49m\u001b[43mmodel\u001b[49m\u001b[43m,\u001b[49m\n\u001b[32m    462\u001b[39m \u001b[43m      \u001b[49m\u001b[43mdata\u001b[49m\u001b[43m,\u001b[49m\n\u001b[32m    463\u001b[39m \u001b[43m      \u001b[49m\u001b[43mrun_physics_thread\u001b[49m\u001b[43m=\u001b[49m\u001b[38;5;28;43;01mTrue\u001b[39;49;00m\u001b[43m,\u001b[49m\n\u001b[32m    464\u001b[39m \u001b[43m      \u001b[49m\u001b[43mloader\u001b[49m\u001b[43m=\u001b[49m\u001b[43mloader\u001b[49m\u001b[43m,\u001b[49m\n\u001b[32m    465\u001b[39m \u001b[43m      \u001b[49m\u001b[43mshow_left_ui\u001b[49m\u001b[43m=\u001b[49m\u001b[43mshow_left_ui\u001b[49m\u001b[43m,\u001b[49m\n\u001b[32m    466\u001b[39m \u001b[43m      \u001b[49m\u001b[43mshow_right_ui\u001b[49m\u001b[43m=\u001b[49m\u001b[43mshow_right_ui\u001b[49m\u001b[43m,\u001b[49m\n\u001b[32m    467\u001b[39m \u001b[43m  \u001b[49m\u001b[43m)\u001b[49m\n",
      "\u001b[36mFile \u001b[39m\u001b[32m~/anaconda3/envs/mujoco/lib/python3.13/site-packages/mujoco/viewer.py:445\u001b[39m, in \u001b[36m_launch_internal\u001b[39m\u001b[34m(model, data, run_physics_thread, loader, handle_return, key_callback, show_left_ui, show_right_ui)\u001b[39m\n\u001b[32m    442\u001b[39m atexit.register(exit_simulate)\n\u001b[32m    444\u001b[39m side_thread.start()\n\u001b[32m--> \u001b[39m\u001b[32m445\u001b[39m \u001b[43msimulate\u001b[49m\u001b[43m.\u001b[49m\u001b[43mrender_loop\u001b[49m\u001b[43m(\u001b[49m\u001b[43m)\u001b[49m\n\u001b[32m    446\u001b[39m atexit.unregister(exit_simulate)\n\u001b[32m    447\u001b[39m side_thread.join()\n",
      "\u001b[31mKeyboardInterrupt\u001b[39m: "
     ]
    },
    {
     "ename": "",
     "evalue": "",
     "output_type": "error",
     "traceback": [
      "\u001b[1;31mThe Kernel crashed while executing code in the current cell or a previous cell. \n",
      "\u001b[1;31mPlease review the code in the cell(s) to identify a possible cause of the failure. \n",
      "\u001b[1;31mClick <a href='https://aka.ms/vscodeJupyterKernelCrash'>here</a> for more info. \n",
      "\u001b[1;31mView Jupyter <a href='command:jupyter.viewOutput'>log</a> for further details."
     ]
    }
   ],
   "source": [
    "import mujoco.viewer as viewer\n",
    "import time\n",
    "\n",
    "mujoco.mj_resetDataKeyframe(model, data, 0)  # Reset the state to keyframe 0\n",
    "\n",
    "# \n",
    "# with viewer.launch_passive(model, data) as viewer:  \n",
    "with viewer.launch(model, data) as viewer:  \n",
    "  # launch_passive means all the simulation should be done by the user \n",
    "  \n",
    "  start = time.time()\n",
    "  while viewer.is_running() and time.time() - start < 10:\n",
    "    step_start = time.time()\n",
    "    data.ctrl = 0.2*myControl(model,data)\n",
    "    mujoco.mj_step(model, data)\n",
    "\n",
    "  # let viewer show updated info\n",
    "    viewer.sync()\n",
    "    \n",
    "  # #  make sure the while loop is called every sampling period \n",
    "    # computation inside the loop may take some nontrivial time. \n",
    "    time_until_next_step = model.opt.timestep - (time.time() - step_start)\n",
    "    if time_until_next_step > 0:\n",
    "      time.sleep(time_until_next_step)"
   ]
  }
 ],
 "metadata": {
  "kernelspec": {
   "display_name": "mujoco",
   "language": "python",
   "name": "python3"
  },
  "language_info": {
   "codemirror_mode": {
    "name": "ipython",
    "version": 3
   },
   "file_extension": ".py",
   "mimetype": "text/x-python",
   "name": "python",
   "nbconvert_exporter": "python",
   "pygments_lexer": "ipython3",
   "version": "3.13.2"
  }
 },
 "nbformat": 4,
 "nbformat_minor": 2
}
